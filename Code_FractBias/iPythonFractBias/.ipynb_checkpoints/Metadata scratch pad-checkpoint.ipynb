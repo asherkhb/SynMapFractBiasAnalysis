{
 "cells": [
  {
   "cell_type": "code",
   "execution_count": 2,
   "metadata": {
    "collapsed": true
   },
   "outputs": [],
   "source": [
    "def hyphen_range(s):\n",
    "    \"\"\" Takes a range in form of \"a-b\" and generate a list of numbers between a and b inclusive.\n",
    "    Also accepts comma separated ranges like \"a-b,c-d,f\" will build a list which will include\n",
    "    Numbers from a to b, a to d and f\"\"\"\n",
    "    s=\"\".join(s.split())#removes white space\n",
    "    r=set()\n",
    "    for x in s.split(','):\n",
    "        t=x.split('-')\n",
    "        if len(t) not in [1,2]: raise SyntaxError(\"hash_range is given its arguement as \"+s+\" which seems not correctly formated.\")\n",
    "        r.add(int(t[0])) if len(t)==1 else r.update(set(range(int(t[0]),int(t[1])+1)))\n",
    "    l=list(r)\n",
    "    l.sort()\n",
    "    return l"
   ]
  },
  {
   "cell_type": "code",
   "execution_count": 3,
   "metadata": {
    "collapsed": false
   },
   "outputs": [
    {
     "data": {
      "text/plain": [
       "[6949, 6950, 6951, 6952, 6953, 6954, 6955, 6956, 6957, 6958, 6959, 6960]"
      ]
     },
     "execution_count": 3,
     "metadata": {},
     "output_type": "execute_result"
    }
   ],
   "source": [
    "list(hyphen_range('6949-6960'))"
   ]
  },
  {
   "cell_type": "code",
   "execution_count": null,
   "metadata": {
    "collapsed": true
   },
   "outputs": [],
   "source": [
    "ATuple = (1,2,3)\n",
    "ALst = [1,2,3]\n",
    "\n"
   ]
  }
 ],
 "metadata": {
  "kernelspec": {
   "display_name": "Python 2",
   "language": "python",
   "name": "python2"
  },
  "language_info": {
   "codemirror_mode": {
    "name": "ipython",
    "version": 2
   },
   "file_extension": ".py",
   "mimetype": "text/x-python",
   "name": "python",
   "nbconvert_exporter": "python",
   "pygments_lexer": "ipython2",
   "version": "2.7.10"
  }
 },
 "nbformat": 4,
 "nbformat_minor": 0
}
